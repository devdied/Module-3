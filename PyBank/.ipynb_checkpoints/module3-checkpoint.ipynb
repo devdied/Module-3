{
 "cells": [
  {
   "cell_type": "code",
   "execution_count": 63,
   "id": "f7810663-58a9-4ef7-99bf-9d1e7e9239ca",
   "metadata": {},
   "outputs": [
    {
     "name": "stdout",
     "output_type": "stream",
     "text": [
      "Financial Analysis\n",
      "----------------------------\n",
      "Total Months: 86\n",
      "Total: $22564198\n",
      "Average Change: $4448.127906976744\n",
      "Greatest Increase in Profits: Aug-16 ($1862002)\n",
      "Greatest Decrease in Profits: Feb-14 ($-1825558)\n",
      "Financial Analysis\n"
     ]
    }
   ],
   "source": [
    "import os\n",
    "import csv\n",
    "\n",
    "csvpath = os.path.join('/Users/devanshimathur/Module-3/PyBank', 'Resources', 'budget_data.csv')\n",
    "total_month = 0\n",
    "net_PL = 0\n",
    "change_PL = 0\n",
    "avg = 0\n",
    "i = 0\n",
    "maxval = 0\n",
    "minval = 0\n",
    "date1 = \"a\"\n",
    "date2 = \"a\"\n",
    "\n",
    "with open(csvpath) as csvfile:\n",
    "    \n",
    "    # CSV reader specifies delimiter and variable that holds contents\n",
    "    csvreader = csv.reader(csvfile, delimiter=',')\n",
    "    # print(csvreader)\n",
    "    \n",
    "    # Read the header row first (skip this step if there is now header)\n",
    "    csv_header = next(csvreader)\n",
    "    # print(f\"CSV Header: {csv_header}\")\n",
    "    \n",
    "    # Read each row of data after the header\n",
    "    for row in csvreader:\n",
    "        val = int(row[1])\n",
    "        # The total number of months included in the dataset\n",
    "        total_month = total_month + 1\n",
    "        \n",
    "        # The net total amount of \"Profit/Losses\" over the entire period\n",
    "        net_PL = net_PL + val\n",
    "        \n",
    "        # The changes in \"Profit/Losses\" over the entire period, and then the average of those changes\n",
    "        change_PL = val - int(i)\n",
    "        avg = avg + change_PL\n",
    "        \n",
    "        # The greatest increase in profits (date and amount) over the entire period\n",
    "        if maxval <= change_PL:\n",
    "            maxval = change_PL\n",
    "            date1 = row[0]\n",
    "        if minval >= change_PL:\n",
    "            minval = change_PL\n",
    "            date2 = row[0]\n",
    "        i = val\n",
    "        \n",
    "    print(\"Financial Analysis\")\n",
    "    print(\"----------------------------\")\n",
    "    print(\"Total Months: \"+str(total_month))\n",
    "    print(\"Total: $\"+str(net_PL))\n",
    "    print(\"Average Change: $\"+str(avg/total_month))\n",
    "    print(\"Greatest Increase in Profits:\",date1,\"($\"+str(maxval)+\")\")\n",
    "    print(\"Greatest Decrease in Profits:\",date2,\"($\"+str(minval)+\")\")\n",
    "\n",
    "# The greatest decrease in profits (date and amount) over the entire period\n",
    "\n",
    "    f = open(\"file.txt\", \"w\")\n",
    "    print(\"Financial Analysis\")\n",
    "    # print(\"----------------------------\")\n",
    "    # print(\"Total Months: \"+str(total_month))\n",
    "    # print(\"Total: $\"+str(net_PL))\n",
    "    # print(\"Average Change: $\"+str(avg/total_month))\n",
    "    # print(\"Greatest Increase in Profits:\",date1,\"($\"+str(maxval)+\")\")\n",
    "    # print(\"Greatest Decrease in Profits:\",date2,\"($\"+str(minval)+\")\")\n",
    "    f.close()"
   ]
  },
  {
   "cell_type": "code",
   "execution_count": null,
   "id": "70d24fa1-8241-4f05-b0b1-73a67fcd9464",
   "metadata": {},
   "outputs": [],
   "source": []
  }
 ],
 "metadata": {
  "kernelspec": {
   "display_name": "Python 3 (ipykernel)",
   "language": "python",
   "name": "python3"
  },
  "language_info": {
   "codemirror_mode": {
    "name": "ipython",
    "version": 3
   },
   "file_extension": ".py",
   "mimetype": "text/x-python",
   "name": "python",
   "nbconvert_exporter": "python",
   "pygments_lexer": "ipython3",
   "version": "3.10.9"
  }
 },
 "nbformat": 4,
 "nbformat_minor": 5
}
